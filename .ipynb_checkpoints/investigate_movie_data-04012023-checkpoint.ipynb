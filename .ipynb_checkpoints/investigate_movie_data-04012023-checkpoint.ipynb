{
 "cells": [
  {
   "cell_type": "markdown",
   "metadata": {},
   "source": [
    "\n",
    "# Project: Movies Data Analysis\n",
    "\n"
   ]
  },
  {
   "cell_type": "markdown",
   "metadata": {},
   "source": [
    "<a id='intro'></a>\n",
    "# INTRODUCTION\n",
    "\n",
    "This data set contains information about 10,000 movies collected from The Movie Database (TMDb). The dataset contains columns includes;\n",
    "\n",
    "- Certain columns, like __cast__ and __genres__, which contains multiple values separated by pipe (|) characters.\n",
    "- __popularity__, __vote_count__ and __vote_average__ collectively helps to specify how popular a movie is amongst audiences\n",
    "- __budget__ and __revenue__ columns respectively contains the film __budget__ and the __revenue__ made from the film\n",
    "- The final two columns ending with ___adj__ show the budget and revenue of the associated movie in terms of 2010 dollars,\n",
    "accounting for inflation overtime.\n",
    "\n",
    "    \n"
   ]
  },
  {
   "cell_type": "markdown",
   "metadata": {},
   "source": [
    "# QUESTIONS"
   ]
  },
  {
   "cell_type": "markdown",
   "metadata": {},
   "source": [
    "> In this report we are going to determine using available records the characteristics of movies made more revenue. The questions that will be highlighed includes;\n",
    "\n",
    "- How does the movie runtime affect the revenue\n",
    "- Are movies with High runtime prefered over movies with Low Runtime by audiences\n",
    "- Is a certain genre of movie associated with higher profit\n",
    "\n",
    "\n"
   ]
  },
  {
   "cell_type": "markdown",
   "metadata": {},
   "source": [
    "# DATA WRANGLING"
   ]
  },
  {
   "cell_type": "markdown",
   "metadata": {},
   "source": [
    "## Gather"
   ]
  },
  {
   "cell_type": "code",
   "execution_count": 213,
   "metadata": {},
   "outputs": [],
   "source": [
    "# importing the required dependencies\n",
    "import pandas as pd\n",
    "import numpy as np\n",
    "import matplotlib.pyplot as plt\n",
    "%matplotlib inline\n"
   ]
  },
  {
   "cell_type": "markdown",
   "metadata": {},
   "source": [
    "- The data is pulled from a csv file"
   ]
  },
  {
   "cell_type": "code",
   "execution_count": 214,
   "metadata": {},
   "outputs": [],
   "source": [
    "# The data is now loaded from the csv file into the notebook\n",
    "mv_df = pd.read_csv('tmdb-movies.csv', sep=',')\n"
   ]
  },
  {
   "cell_type": "markdown",
   "metadata": {},
   "source": [
    "\n",
    "\n",
    "\n",
    "\n",
    "## Assess"
   ]
  },
  {
   "cell_type": "markdown",
   "metadata": {},
   "source": [
    "### A quick look at the column names and sample data is carried out"
   ]
  },
  {
   "cell_type": "code",
   "execution_count": 209,
   "metadata": {},
   "outputs": [
    {
     "data": {
      "text/html": [
       "<div>\n",
       "<style scoped>\n",
       "    .dataframe tbody tr th:only-of-type {\n",
       "        vertical-align: middle;\n",
       "    }\n",
       "\n",
       "    .dataframe tbody tr th {\n",
       "        vertical-align: top;\n",
       "    }\n",
       "\n",
       "    .dataframe thead th {\n",
       "        text-align: right;\n",
       "    }\n",
       "</style>\n",
       "<table border=\"1\" class=\"dataframe\">\n",
       "  <thead>\n",
       "    <tr style=\"text-align: right;\">\n",
       "      <th></th>\n",
       "      <th>id</th>\n",
       "      <th>imdb_id</th>\n",
       "      <th>popularity</th>\n",
       "      <th>budget</th>\n",
       "      <th>revenue</th>\n",
       "      <th>original_title</th>\n",
       "      <th>cast</th>\n",
       "      <th>homepage</th>\n",
       "      <th>director</th>\n",
       "      <th>tagline</th>\n",
       "      <th>...</th>\n",
       "      <th>overview</th>\n",
       "      <th>runtime</th>\n",
       "      <th>genres</th>\n",
       "      <th>production_companies</th>\n",
       "      <th>release_date</th>\n",
       "      <th>vote_count</th>\n",
       "      <th>vote_average</th>\n",
       "      <th>release_year</th>\n",
       "      <th>budget_adj</th>\n",
       "      <th>revenue_adj</th>\n",
       "    </tr>\n",
       "  </thead>\n",
       "  <tbody>\n",
       "    <tr>\n",
       "      <th>0</th>\n",
       "      <td>135397</td>\n",
       "      <td>tt0369610</td>\n",
       "      <td>32.985763</td>\n",
       "      <td>150000000</td>\n",
       "      <td>1513528810</td>\n",
       "      <td>Jurassic World</td>\n",
       "      <td>Chris Pratt|Bryce Dallas Howard|Irrfan Khan|Vi...</td>\n",
       "      <td>http://www.jurassicworld.com/</td>\n",
       "      <td>Colin Trevorrow</td>\n",
       "      <td>The park is open.</td>\n",
       "      <td>...</td>\n",
       "      <td>Twenty-two years after the events of Jurassic ...</td>\n",
       "      <td>124</td>\n",
       "      <td>Action|Adventure|Science Fiction|Thriller</td>\n",
       "      <td>Universal Studios|Amblin Entertainment|Legenda...</td>\n",
       "      <td>6/9/15</td>\n",
       "      <td>5562</td>\n",
       "      <td>6.5</td>\n",
       "      <td>2015</td>\n",
       "      <td>1.379999e+08</td>\n",
       "      <td>1.392446e+09</td>\n",
       "    </tr>\n",
       "    <tr>\n",
       "      <th>1</th>\n",
       "      <td>76341</td>\n",
       "      <td>tt1392190</td>\n",
       "      <td>28.419936</td>\n",
       "      <td>150000000</td>\n",
       "      <td>378436354</td>\n",
       "      <td>Mad Max: Fury Road</td>\n",
       "      <td>Tom Hardy|Charlize Theron|Hugh Keays-Byrne|Nic...</td>\n",
       "      <td>http://www.madmaxmovie.com/</td>\n",
       "      <td>George Miller</td>\n",
       "      <td>What a Lovely Day.</td>\n",
       "      <td>...</td>\n",
       "      <td>An apocalyptic story set in the furthest reach...</td>\n",
       "      <td>120</td>\n",
       "      <td>Action|Adventure|Science Fiction|Thriller</td>\n",
       "      <td>Village Roadshow Pictures|Kennedy Miller Produ...</td>\n",
       "      <td>5/13/15</td>\n",
       "      <td>6185</td>\n",
       "      <td>7.1</td>\n",
       "      <td>2015</td>\n",
       "      <td>1.379999e+08</td>\n",
       "      <td>3.481613e+08</td>\n",
       "    </tr>\n",
       "    <tr>\n",
       "      <th>2</th>\n",
       "      <td>262500</td>\n",
       "      <td>tt2908446</td>\n",
       "      <td>13.112507</td>\n",
       "      <td>110000000</td>\n",
       "      <td>295238201</td>\n",
       "      <td>Insurgent</td>\n",
       "      <td>Shailene Woodley|Theo James|Kate Winslet|Ansel...</td>\n",
       "      <td>http://www.thedivergentseries.movie/#insurgent</td>\n",
       "      <td>Robert Schwentke</td>\n",
       "      <td>One Choice Can Destroy You</td>\n",
       "      <td>...</td>\n",
       "      <td>Beatrice Prior must confront her inner demons ...</td>\n",
       "      <td>119</td>\n",
       "      <td>Adventure|Science Fiction|Thriller</td>\n",
       "      <td>Summit Entertainment|Mandeville Films|Red Wago...</td>\n",
       "      <td>3/18/15</td>\n",
       "      <td>2480</td>\n",
       "      <td>6.3</td>\n",
       "      <td>2015</td>\n",
       "      <td>1.012000e+08</td>\n",
       "      <td>2.716190e+08</td>\n",
       "    </tr>\n",
       "    <tr>\n",
       "      <th>3</th>\n",
       "      <td>140607</td>\n",
       "      <td>tt2488496</td>\n",
       "      <td>11.173104</td>\n",
       "      <td>200000000</td>\n",
       "      <td>2068178225</td>\n",
       "      <td>Star Wars: The Force Awakens</td>\n",
       "      <td>Harrison Ford|Mark Hamill|Carrie Fisher|Adam D...</td>\n",
       "      <td>http://www.starwars.com/films/star-wars-episod...</td>\n",
       "      <td>J.J. Abrams</td>\n",
       "      <td>Every generation has a story.</td>\n",
       "      <td>...</td>\n",
       "      <td>Thirty years after defeating the Galactic Empi...</td>\n",
       "      <td>136</td>\n",
       "      <td>Action|Adventure|Science Fiction|Fantasy</td>\n",
       "      <td>Lucasfilm|Truenorth Productions|Bad Robot</td>\n",
       "      <td>12/15/15</td>\n",
       "      <td>5292</td>\n",
       "      <td>7.5</td>\n",
       "      <td>2015</td>\n",
       "      <td>1.839999e+08</td>\n",
       "      <td>1.902723e+09</td>\n",
       "    </tr>\n",
       "    <tr>\n",
       "      <th>4</th>\n",
       "      <td>168259</td>\n",
       "      <td>tt2820852</td>\n",
       "      <td>9.335014</td>\n",
       "      <td>190000000</td>\n",
       "      <td>1506249360</td>\n",
       "      <td>Furious 7</td>\n",
       "      <td>Vin Diesel|Paul Walker|Jason Statham|Michelle ...</td>\n",
       "      <td>http://www.furious7.com/</td>\n",
       "      <td>James Wan</td>\n",
       "      <td>Vengeance Hits Home</td>\n",
       "      <td>...</td>\n",
       "      <td>Deckard Shaw seeks revenge against Dominic Tor...</td>\n",
       "      <td>137</td>\n",
       "      <td>Action|Crime|Thriller</td>\n",
       "      <td>Universal Pictures|Original Film|Media Rights ...</td>\n",
       "      <td>4/1/15</td>\n",
       "      <td>2947</td>\n",
       "      <td>7.3</td>\n",
       "      <td>2015</td>\n",
       "      <td>1.747999e+08</td>\n",
       "      <td>1.385749e+09</td>\n",
       "    </tr>\n",
       "  </tbody>\n",
       "</table>\n",
       "<p>5 rows × 21 columns</p>\n",
       "</div>"
      ],
      "text/plain": [
       "       id    imdb_id  popularity     budget     revenue  \\\n",
       "0  135397  tt0369610   32.985763  150000000  1513528810   \n",
       "1   76341  tt1392190   28.419936  150000000   378436354   \n",
       "2  262500  tt2908446   13.112507  110000000   295238201   \n",
       "3  140607  tt2488496   11.173104  200000000  2068178225   \n",
       "4  168259  tt2820852    9.335014  190000000  1506249360   \n",
       "\n",
       "                 original_title  \\\n",
       "0                Jurassic World   \n",
       "1            Mad Max: Fury Road   \n",
       "2                     Insurgent   \n",
       "3  Star Wars: The Force Awakens   \n",
       "4                     Furious 7   \n",
       "\n",
       "                                                cast  \\\n",
       "0  Chris Pratt|Bryce Dallas Howard|Irrfan Khan|Vi...   \n",
       "1  Tom Hardy|Charlize Theron|Hugh Keays-Byrne|Nic...   \n",
       "2  Shailene Woodley|Theo James|Kate Winslet|Ansel...   \n",
       "3  Harrison Ford|Mark Hamill|Carrie Fisher|Adam D...   \n",
       "4  Vin Diesel|Paul Walker|Jason Statham|Michelle ...   \n",
       "\n",
       "                                            homepage          director  \\\n",
       "0                      http://www.jurassicworld.com/   Colin Trevorrow   \n",
       "1                        http://www.madmaxmovie.com/     George Miller   \n",
       "2     http://www.thedivergentseries.movie/#insurgent  Robert Schwentke   \n",
       "3  http://www.starwars.com/films/star-wars-episod...       J.J. Abrams   \n",
       "4                           http://www.furious7.com/         James Wan   \n",
       "\n",
       "                         tagline  ...  \\\n",
       "0              The park is open.  ...   \n",
       "1             What a Lovely Day.  ...   \n",
       "2     One Choice Can Destroy You  ...   \n",
       "3  Every generation has a story.  ...   \n",
       "4            Vengeance Hits Home  ...   \n",
       "\n",
       "                                            overview runtime  \\\n",
       "0  Twenty-two years after the events of Jurassic ...     124   \n",
       "1  An apocalyptic story set in the furthest reach...     120   \n",
       "2  Beatrice Prior must confront her inner demons ...     119   \n",
       "3  Thirty years after defeating the Galactic Empi...     136   \n",
       "4  Deckard Shaw seeks revenge against Dominic Tor...     137   \n",
       "\n",
       "                                      genres  \\\n",
       "0  Action|Adventure|Science Fiction|Thriller   \n",
       "1  Action|Adventure|Science Fiction|Thriller   \n",
       "2         Adventure|Science Fiction|Thriller   \n",
       "3   Action|Adventure|Science Fiction|Fantasy   \n",
       "4                      Action|Crime|Thriller   \n",
       "\n",
       "                                production_companies release_date vote_count  \\\n",
       "0  Universal Studios|Amblin Entertainment|Legenda...       6/9/15       5562   \n",
       "1  Village Roadshow Pictures|Kennedy Miller Produ...      5/13/15       6185   \n",
       "2  Summit Entertainment|Mandeville Films|Red Wago...      3/18/15       2480   \n",
       "3          Lucasfilm|Truenorth Productions|Bad Robot     12/15/15       5292   \n",
       "4  Universal Pictures|Original Film|Media Rights ...       4/1/15       2947   \n",
       "\n",
       "   vote_average  release_year    budget_adj   revenue_adj  \n",
       "0           6.5          2015  1.379999e+08  1.392446e+09  \n",
       "1           7.1          2015  1.379999e+08  3.481613e+08  \n",
       "2           6.3          2015  1.012000e+08  2.716190e+08  \n",
       "3           7.5          2015  1.839999e+08  1.902723e+09  \n",
       "4           7.3          2015  1.747999e+08  1.385749e+09  \n",
       "\n",
       "[5 rows x 21 columns]"
      ]
     },
     "execution_count": 209,
     "metadata": {},
     "output_type": "execute_result"
    }
   ],
   "source": [
    "mv_df.head()"
   ]
  },
  {
   "cell_type": "markdown",
   "metadata": {},
   "source": [
    "### The datatype of each of the column is also checked"
   ]
  },
  {
   "cell_type": "code",
   "execution_count": 9,
   "metadata": {},
   "outputs": [
    {
     "name": "stdout",
     "output_type": "stream",
     "text": [
      "<class 'pandas.core.frame.DataFrame'>\n",
      "RangeIndex: 10866 entries, 0 to 10865\n",
      "Data columns (total 21 columns):\n",
      " #   Column                Non-Null Count  Dtype  \n",
      "---  ------                --------------  -----  \n",
      " 0   id                    10866 non-null  int64  \n",
      " 1   imdb_id               10856 non-null  object \n",
      " 2   popularity            10866 non-null  float64\n",
      " 3   budget                10866 non-null  int64  \n",
      " 4   revenue               10866 non-null  int64  \n",
      " 5   original_title        10866 non-null  object \n",
      " 6   cast                  10790 non-null  object \n",
      " 7   homepage              2936 non-null   object \n",
      " 8   director              10822 non-null  object \n",
      " 9   tagline               8042 non-null   object \n",
      " 10  keywords              9373 non-null   object \n",
      " 11  overview              10862 non-null  object \n",
      " 12  runtime               10866 non-null  int64  \n",
      " 13  genres                10843 non-null  object \n",
      " 14  production_companies  9836 non-null   object \n",
      " 15  release_date          10866 non-null  object \n",
      " 16  vote_count            10866 non-null  int64  \n",
      " 17  vote_average          10866 non-null  float64\n",
      " 18  release_year          10866 non-null  int64  \n",
      " 19  budget_adj            10866 non-null  float64\n",
      " 20  revenue_adj           10866 non-null  float64\n",
      "dtypes: float64(4), int64(6), object(11)\n",
      "memory usage: 1.7+ MB\n"
     ]
    }
   ],
   "source": [
    "mv_df.info()"
   ]
  },
  {
   "cell_type": "markdown",
   "metadata": {},
   "source": [
    "### Also the bottom end of the dataset is observed"
   ]
  },
  {
   "cell_type": "code",
   "execution_count": 211,
   "metadata": {
    "scrolled": false
   },
   "outputs": [
    {
     "data": {
      "text/html": [
       "<div>\n",
       "<style scoped>\n",
       "    .dataframe tbody tr th:only-of-type {\n",
       "        vertical-align: middle;\n",
       "    }\n",
       "\n",
       "    .dataframe tbody tr th {\n",
       "        vertical-align: top;\n",
       "    }\n",
       "\n",
       "    .dataframe thead th {\n",
       "        text-align: right;\n",
       "    }\n",
       "</style>\n",
       "<table border=\"1\" class=\"dataframe\">\n",
       "  <thead>\n",
       "    <tr style=\"text-align: right;\">\n",
       "      <th></th>\n",
       "      <th>id</th>\n",
       "      <th>imdb_id</th>\n",
       "      <th>popularity</th>\n",
       "      <th>budget</th>\n",
       "      <th>revenue</th>\n",
       "      <th>original_title</th>\n",
       "      <th>cast</th>\n",
       "      <th>director</th>\n",
       "      <th>overview</th>\n",
       "      <th>runtime</th>\n",
       "      <th>genres</th>\n",
       "      <th>release_date</th>\n",
       "      <th>vote_count</th>\n",
       "      <th>vote_average</th>\n",
       "      <th>release_year</th>\n",
       "      <th>budget_adj</th>\n",
       "      <th>revenue_adj</th>\n",
       "    </tr>\n",
       "  </thead>\n",
       "  <tbody>\n",
       "    <tr>\n",
       "      <th>10861</th>\n",
       "      <td>21</td>\n",
       "      <td>tt0060371</td>\n",
       "      <td>0.080598</td>\n",
       "      <td>0</td>\n",
       "      <td>0</td>\n",
       "      <td>The Endless Summer</td>\n",
       "      <td>Michael Hynson|Robert August|Lord 'Tally Ho' B...</td>\n",
       "      <td>Bruce Brown</td>\n",
       "      <td>The Endless Summer, by Bruce Brown, is one of ...</td>\n",
       "      <td>95</td>\n",
       "      <td>Documentary</td>\n",
       "      <td>6/15/66</td>\n",
       "      <td>11</td>\n",
       "      <td>7.4</td>\n",
       "      <td>1966</td>\n",
       "      <td>0.000000</td>\n",
       "      <td>0.0</td>\n",
       "    </tr>\n",
       "    <tr>\n",
       "      <th>10862</th>\n",
       "      <td>20379</td>\n",
       "      <td>tt0060472</td>\n",
       "      <td>0.065543</td>\n",
       "      <td>0</td>\n",
       "      <td>0</td>\n",
       "      <td>Grand Prix</td>\n",
       "      <td>James Garner|Eva Marie Saint|Yves Montand|Tosh...</td>\n",
       "      <td>John Frankenheimer</td>\n",
       "      <td>Grand Prix driver Pete Aron is fired by his te...</td>\n",
       "      <td>176</td>\n",
       "      <td>Action|Adventure|Drama</td>\n",
       "      <td>12/21/66</td>\n",
       "      <td>20</td>\n",
       "      <td>5.7</td>\n",
       "      <td>1966</td>\n",
       "      <td>0.000000</td>\n",
       "      <td>0.0</td>\n",
       "    </tr>\n",
       "    <tr>\n",
       "      <th>10863</th>\n",
       "      <td>39768</td>\n",
       "      <td>tt0060161</td>\n",
       "      <td>0.065141</td>\n",
       "      <td>0</td>\n",
       "      <td>0</td>\n",
       "      <td>Beregis Avtomobilya</td>\n",
       "      <td>Innokentiy Smoktunovskiy|Oleg Efremov|Georgi Z...</td>\n",
       "      <td>Eldar Ryazanov</td>\n",
       "      <td>An insurance agent who moonlights as a carthie...</td>\n",
       "      <td>94</td>\n",
       "      <td>Mystery|Comedy</td>\n",
       "      <td>1/1/66</td>\n",
       "      <td>11</td>\n",
       "      <td>6.5</td>\n",
       "      <td>1966</td>\n",
       "      <td>0.000000</td>\n",
       "      <td>0.0</td>\n",
       "    </tr>\n",
       "    <tr>\n",
       "      <th>10864</th>\n",
       "      <td>21449</td>\n",
       "      <td>tt0061177</td>\n",
       "      <td>0.064317</td>\n",
       "      <td>0</td>\n",
       "      <td>0</td>\n",
       "      <td>What's Up, Tiger Lily?</td>\n",
       "      <td>Tatsuya Mihashi|Akiko Wakabayashi|Mie Hama|Joh...</td>\n",
       "      <td>Woody Allen</td>\n",
       "      <td>In comic Woody Allen's film debut, he took the...</td>\n",
       "      <td>80</td>\n",
       "      <td>Action|Comedy</td>\n",
       "      <td>11/2/66</td>\n",
       "      <td>22</td>\n",
       "      <td>5.4</td>\n",
       "      <td>1966</td>\n",
       "      <td>0.000000</td>\n",
       "      <td>0.0</td>\n",
       "    </tr>\n",
       "    <tr>\n",
       "      <th>10865</th>\n",
       "      <td>22293</td>\n",
       "      <td>tt0060666</td>\n",
       "      <td>0.035919</td>\n",
       "      <td>19000</td>\n",
       "      <td>0</td>\n",
       "      <td>Manos: The Hands of Fate</td>\n",
       "      <td>Harold P. Warren|Tom Neyman|John Reynolds|Dian...</td>\n",
       "      <td>Harold P. Warren</td>\n",
       "      <td>A family gets lost on the road and stumbles up...</td>\n",
       "      <td>74</td>\n",
       "      <td>Horror</td>\n",
       "      <td>11/15/66</td>\n",
       "      <td>15</td>\n",
       "      <td>1.5</td>\n",
       "      <td>1966</td>\n",
       "      <td>127642.279154</td>\n",
       "      <td>0.0</td>\n",
       "    </tr>\n",
       "  </tbody>\n",
       "</table>\n",
       "</div>"
      ],
      "text/plain": [
       "          id    imdb_id  popularity  budget  revenue  \\\n",
       "10861     21  tt0060371    0.080598       0        0   \n",
       "10862  20379  tt0060472    0.065543       0        0   \n",
       "10863  39768  tt0060161    0.065141       0        0   \n",
       "10864  21449  tt0061177    0.064317       0        0   \n",
       "10865  22293  tt0060666    0.035919   19000        0   \n",
       "\n",
       "                 original_title  \\\n",
       "10861        The Endless Summer   \n",
       "10862                Grand Prix   \n",
       "10863       Beregis Avtomobilya   \n",
       "10864    What's Up, Tiger Lily?   \n",
       "10865  Manos: The Hands of Fate   \n",
       "\n",
       "                                                    cast            director  \\\n",
       "10861  Michael Hynson|Robert August|Lord 'Tally Ho' B...         Bruce Brown   \n",
       "10862  James Garner|Eva Marie Saint|Yves Montand|Tosh...  John Frankenheimer   \n",
       "10863  Innokentiy Smoktunovskiy|Oleg Efremov|Georgi Z...      Eldar Ryazanov   \n",
       "10864  Tatsuya Mihashi|Akiko Wakabayashi|Mie Hama|Joh...         Woody Allen   \n",
       "10865  Harold P. Warren|Tom Neyman|John Reynolds|Dian...    Harold P. Warren   \n",
       "\n",
       "                                                overview  runtime  \\\n",
       "10861  The Endless Summer, by Bruce Brown, is one of ...       95   \n",
       "10862  Grand Prix driver Pete Aron is fired by his te...      176   \n",
       "10863  An insurance agent who moonlights as a carthie...       94   \n",
       "10864  In comic Woody Allen's film debut, he took the...       80   \n",
       "10865  A family gets lost on the road and stumbles up...       74   \n",
       "\n",
       "                       genres release_date  vote_count  vote_average  \\\n",
       "10861             Documentary      6/15/66          11           7.4   \n",
       "10862  Action|Adventure|Drama     12/21/66          20           5.7   \n",
       "10863          Mystery|Comedy       1/1/66          11           6.5   \n",
       "10864           Action|Comedy      11/2/66          22           5.4   \n",
       "10865                  Horror     11/15/66          15           1.5   \n",
       "\n",
       "       release_year     budget_adj  revenue_adj  \n",
       "10861          1966       0.000000          0.0  \n",
       "10862          1966       0.000000          0.0  \n",
       "10863          1966       0.000000          0.0  \n",
       "10864          1966       0.000000          0.0  \n",
       "10865          1966  127642.279154          0.0  "
      ]
     },
     "execution_count": 211,
     "metadata": {},
     "output_type": "execute_result"
    }
   ],
   "source": [
    "mv_df.tail()"
   ]
  },
  {
   "cell_type": "markdown",
   "metadata": {},
   "source": [
    "> It is observed that some movies have 0 as their budget and/or revenue figure, this is an inaccurate information"
   ]
  },
  {
   "cell_type": "markdown",
   "metadata": {},
   "source": [
    "### We will now check to see the total number of empy data on each column"
   ]
  },
  {
   "cell_type": "code",
   "execution_count": 12,
   "metadata": {},
   "outputs": [
    {
     "data": {
      "text/plain": [
       "id                         0\n",
       "imdb_id                   10\n",
       "popularity                 0\n",
       "budget                     0\n",
       "revenue                    0\n",
       "original_title             0\n",
       "cast                      76\n",
       "homepage                7930\n",
       "director                  44\n",
       "tagline                 2824\n",
       "keywords                1493\n",
       "overview                   4\n",
       "runtime                    0\n",
       "genres                    23\n",
       "production_companies    1030\n",
       "release_date               0\n",
       "vote_count                 0\n",
       "vote_average               0\n",
       "release_year               0\n",
       "budget_adj                 0\n",
       "revenue_adj                0\n",
       "dtype: int64"
      ]
     },
     "execution_count": 12,
     "metadata": {},
     "output_type": "execute_result"
    }
   ],
   "source": [
    "mv_df.isna().sum()"
   ]
  },
  {
   "cell_type": "markdown",
   "metadata": {},
   "source": [
    "> It is observed that 9 Columns of the 21 contains rows with empty data. While 4 of the columns can be seen as a major issue\n",
    "the number of empty data in the remaining 5 columns are quite negligible "
   ]
  },
  {
   "cell_type": "markdown",
   "metadata": {},
   "source": [
    "### We will now check for duplicate records"
   ]
  },
  {
   "cell_type": "code",
   "execution_count": 13,
   "metadata": {},
   "outputs": [
    {
     "data": {
      "text/plain": [
       "1"
      ]
     },
     "execution_count": 13,
     "metadata": {},
     "output_type": "execute_result"
    }
   ],
   "source": [
    "mv_df.duplicated().sum()"
   ]
  },
  {
   "cell_type": "markdown",
   "metadata": {},
   "source": [
    "> Only one duplicate record is observed from the over 10,000 records."
   ]
  },
  {
   "cell_type": "markdown",
   "metadata": {},
   "source": [
    "<a id='wrangling'></a>\n",
    "## CleanUp\n",
    "\n",
    " Having investigated the data and noted down the observations. Clean up operation on the dataframe will now commence to take care of the follow noticed issues\n",
    "\n",
    ">    1. Missing data in some columns\n",
    ">    2. Remove duplicate record\n",
    ">    3. Remove records with 0 revenue or 0 Budget\n",
    "\n",
    "  `\n",
    "    "
   ]
  },
  {
   "cell_type": "markdown",
   "metadata": {},
   "source": [
    "### Issue 1. Fixing the Missing data in some columns\n",
    "\n",
    "> This will be fixed in two operations;\n",
    "   1. The Columns which contain more than 1,000 empty data will be dropped\n",
    "   2. The empty records in the remaining columns will be filled"
   ]
  },
  {
   "cell_type": "markdown",
   "metadata": {},
   "source": [
    "#### Operation 1: Dropping the Columns with over 1000 empty data"
   ]
  },
  {
   "cell_type": "markdown",
   "metadata": {},
   "source": [
    "#### CODE"
   ]
  },
  {
   "cell_type": "code",
   "execution_count": 215,
   "metadata": {},
   "outputs": [],
   "source": [
    "mv_df.drop(['tagline','keywords','homepage','production_companies'], axis=1, inplace=True)\n"
   ]
  },
  {
   "cell_type": "markdown",
   "metadata": {},
   "source": [
    "#### TEST"
   ]
  },
  {
   "cell_type": "code",
   "execution_count": 15,
   "metadata": {},
   "outputs": [
    {
     "name": "stdout",
     "output_type": "stream",
     "text": [
      "<class 'pandas.core.frame.DataFrame'>\n",
      "RangeIndex: 10866 entries, 0 to 10865\n",
      "Data columns (total 17 columns):\n",
      " #   Column          Non-Null Count  Dtype  \n",
      "---  ------          --------------  -----  \n",
      " 0   id              10866 non-null  int64  \n",
      " 1   imdb_id         10856 non-null  object \n",
      " 2   popularity      10866 non-null  float64\n",
      " 3   budget          10866 non-null  int64  \n",
      " 4   revenue         10866 non-null  int64  \n",
      " 5   original_title  10866 non-null  object \n",
      " 6   cast            10790 non-null  object \n",
      " 7   director        10822 non-null  object \n",
      " 8   overview        10862 non-null  object \n",
      " 9   runtime         10866 non-null  int64  \n",
      " 10  genres          10843 non-null  object \n",
      " 11  release_date    10866 non-null  object \n",
      " 12  vote_count      10866 non-null  int64  \n",
      " 13  vote_average    10866 non-null  float64\n",
      " 14  release_year    10866 non-null  int64  \n",
      " 15  budget_adj      10866 non-null  float64\n",
      " 16  revenue_adj     10866 non-null  float64\n",
      "dtypes: float64(4), int64(6), object(7)\n",
      "memory usage: 1.4+ MB\n"
     ]
    }
   ],
   "source": [
    "# checking to ensure the removed columns are no longer part of the dataframe\n",
    "\n",
    "mv_df.info()"
   ]
  },
  {
   "cell_type": "markdown",
   "metadata": {},
   "source": [
    "#### Operation 2: Filling the columns with missing data\n",
    "> This is to be done by using a custom function such that for each column \"No\" attached with the name of the column is entered to replace the empty data. "
   ]
  },
  {
   "cell_type": "markdown",
   "metadata": {},
   "source": [
    "#### CODE"
   ]
  },
  {
   "cell_type": "code",
   "execution_count": 16,
   "metadata": {},
   "outputs": [],
   "source": [
    "def fill_str_column(dataframe):\n",
    "    # Fills empty data in string columns with the value No attached with the column name\n",
    "    # e.g a column with the column Name \"cast\" will have its empties filled with \"No Cast\"\n",
    "    \n",
    "    for column in (dataframe).columns:\n",
    "        if isinstance((dataframe)[column], object):\n",
    "            (dataframe)[column] = (dataframe)[column].fillna(\"No \"+column)\n",
    "        \n",
    "fill_str_column(mv_df)"
   ]
  },
  {
   "cell_type": "markdown",
   "metadata": {},
   "source": [
    "#### TEST"
   ]
  },
  {
   "cell_type": "code",
   "execution_count": 17,
   "metadata": {},
   "outputs": [
    {
     "data": {
      "text/plain": [
       "id                0\n",
       "imdb_id           0\n",
       "popularity        0\n",
       "budget            0\n",
       "revenue           0\n",
       "original_title    0\n",
       "cast              0\n",
       "director          0\n",
       "overview          0\n",
       "runtime           0\n",
       "genres            0\n",
       "release_date      0\n",
       "vote_count        0\n",
       "vote_average      0\n",
       "release_year      0\n",
       "budget_adj        0\n",
       "revenue_adj       0\n",
       "dtype: int64"
      ]
     },
     "execution_count": 17,
     "metadata": {},
     "output_type": "execute_result"
    }
   ],
   "source": [
    "# Checking to confirm that no empty data exists in the dataframe\n",
    "\n",
    "mv_df.isna().sum()"
   ]
  },
  {
   "cell_type": "markdown",
   "metadata": {},
   "source": [
    "> After the operations above it can be seen in the cell above that there is no more missing data in the dataset"
   ]
  },
  {
   "cell_type": "markdown",
   "metadata": {},
   "source": [
    "### Issue 2. Removing duplicate records"
   ]
  },
  {
   "cell_type": "markdown",
   "metadata": {},
   "source": [
    "There is only one duplicate record in the dataset and this will now be removed"
   ]
  },
  {
   "cell_type": "markdown",
   "metadata": {},
   "source": [
    "#### CODE"
   ]
  },
  {
   "cell_type": "code",
   "execution_count": 18,
   "metadata": {},
   "outputs": [],
   "source": [
    "# Getting rid of the duplicate record\n",
    "\n",
    "mv_df.drop_duplicates(inplace=True)"
   ]
  },
  {
   "cell_type": "markdown",
   "metadata": {},
   "source": [
    "#### TEST"
   ]
  },
  {
   "cell_type": "code",
   "execution_count": 19,
   "metadata": {},
   "outputs": [
    {
     "data": {
      "text/plain": [
       "0"
      ]
     },
     "execution_count": 19,
     "metadata": {},
     "output_type": "execute_result"
    }
   ],
   "source": [
    "# Confirming that no duplicates exists in the dataframe\n",
    "\n",
    "mv_df.duplicated().sum()"
   ]
  },
  {
   "cell_type": "markdown",
   "metadata": {},
   "source": [
    "> It can be seen from above that no duplicate record exists in the dataset after the duplicate record has been dropped"
   ]
  },
  {
   "cell_type": "markdown",
   "metadata": {},
   "source": [
    "## 3. Removing records with zero revenue or zero budget"
   ]
  },
  {
   "cell_type": "markdown",
   "metadata": {},
   "source": [
    "Records which have either of or both the revenue and budget as 0 will now be removed"
   ]
  },
  {
   "cell_type": "markdown",
   "metadata": {},
   "source": [
    "#### CODE"
   ]
  },
  {
   "cell_type": "code",
   "execution_count": 219,
   "metadata": {},
   "outputs": [],
   "source": [
    "# get a dataframe of records with non-zero revenue\n",
    "non_zero_revenue_df = mv_df[mv_df['revenue']!=0]\n",
    "\n",
    "# from the above dataframe get records with non-zero budget\n",
    "non_zero_budget_df = non_zero_revenue_df[non_zero_revenue_df['budget'] != 0]\n",
    "\n"
   ]
  },
  {
   "cell_type": "markdown",
   "metadata": {},
   "source": [
    "#### TEST"
   ]
  },
  {
   "cell_type": "code",
   "execution_count": 239,
   "metadata": {},
   "outputs": [
    {
     "data": {
      "text/plain": [
       "0"
      ]
     },
     "execution_count": 239,
     "metadata": {},
     "output_type": "execute_result"
    }
   ],
   "source": [
    "non_zero_budget_df[non_zero_budget_df['revenue'] == 0].revenue.count()"
   ]
  },
  {
   "cell_type": "code",
   "execution_count": 240,
   "metadata": {},
   "outputs": [
    {
     "data": {
      "text/plain": [
       "0"
      ]
     },
     "execution_count": 240,
     "metadata": {},
     "output_type": "execute_result"
    }
   ],
   "source": [
    "non_zero_budget_df[non_zero_budget_df['budget'] == 0].budget.count()"
   ]
  },
  {
   "cell_type": "markdown",
   "metadata": {},
   "source": [
    "> it can seen that all of the records which have 0 as either of or both revenue and budget have been filtered out. \n",
    "\n",
    "#### The dataset is now cleaned and ready for the next stage of analysis the changes carried out on it will now be saved as a new csv file"
   ]
  },
  {
   "cell_type": "code",
   "execution_count": 220,
   "metadata": {
    "scrolled": true
   },
   "outputs": [],
   "source": [
    "# saving the cleaned up dataframe\n",
    "non_zero_budget_df.to_csv('imdb_cleaned.csv', index=False)\n"
   ]
  },
  {
   "cell_type": "markdown",
   "metadata": {},
   "source": [
    "#### data will now be pulled out from the cleaned csv file"
   ]
  },
  {
   "cell_type": "code",
   "execution_count": 244,
   "metadata": {},
   "outputs": [
    {
     "name": "stdout",
     "output_type": "stream",
     "text": [
      "<class 'pandas.core.frame.DataFrame'>\n",
      "RangeIndex: 3855 entries, 0 to 3854\n",
      "Data columns (total 17 columns):\n",
      " #   Column          Non-Null Count  Dtype  \n",
      "---  ------          --------------  -----  \n",
      " 0   id              3855 non-null   int64  \n",
      " 1   imdb_id         3855 non-null   object \n",
      " 2   popularity      3855 non-null   float64\n",
      " 3   budget          3855 non-null   int64  \n",
      " 4   revenue         3855 non-null   int64  \n",
      " 5   original_title  3855 non-null   object \n",
      " 6   cast            3851 non-null   object \n",
      " 7   director        3854 non-null   object \n",
      " 8   overview        3855 non-null   object \n",
      " 9   runtime         3855 non-null   int64  \n",
      " 10  genres          3855 non-null   object \n",
      " 11  release_date    3855 non-null   object \n",
      " 12  vote_count      3855 non-null   int64  \n",
      " 13  vote_average    3855 non-null   float64\n",
      " 14  release_year    3855 non-null   int64  \n",
      " 15  budget_adj      3855 non-null   float64\n",
      " 16  revenue_adj     3855 non-null   float64\n",
      "dtypes: float64(4), int64(6), object(7)\n",
      "memory usage: 512.1+ KB\n"
     ]
    }
   ],
   "source": [
    "cleaned_df = pd.read_csv('imdb_cleaned.csv', sep=',')\n",
    "cleaned_df.info()"
   ]
  },
  {
   "cell_type": "markdown",
   "metadata": {},
   "source": [
    "# Exploratory Data Analysis"
   ]
  },
  {
   "cell_type": "markdown",
   "metadata": {},
   "source": [
    "Analysis will now be carried out on the dataset based on the questions asked in the __Question__ section above"
   ]
  },
  {
   "cell_type": "markdown",
   "metadata": {},
   "source": [
    "### 1. How does movie runtime affects the revenue"
   ]
  },
  {
   "cell_type": "code",
   "execution_count": 316,
   "metadata": {},
   "outputs": [
    {
     "data": {
      "image/png": "[encoded data removed]",
      "text/plain": [
       "<Figure size 640x480 with 1 Axes>"
      ]
     },
     "metadata": {},
     "output_type": "display_data"
    }
   ],
   "source": [
    "# plotting the runtime histogram\n",
    "\n",
    "cleaned_df['runtime'].plot(kind='hist',color='maroon')\n",
    "plt.title('Histogram of runtime',size=16, weight=500)\n",
    "plt.ylabel('Runtime Amount', color='blue', size=12);"
   ]
  },
  {
   "cell_type": "markdown",
   "metadata": {},
   "source": [
    "> The histogram of the vote_average is left-skewed"
   ]
  },
  {
   "cell_type": "code",
   "execution_count": 314,
   "metadata": {},
   "outputs": [
    {
     "data": {
      "image/png": "[encoded data removed]",
      "text/plain": [
       "<Figure size 640x480 with 1 Axes>"
      ]
     },
     "metadata": {},
     "output_type": "display_data"
    }
   ],
   "source": [
    "# plotting the vote average histogram\n",
    "\n",
    "cleaned_df['vote_average'].plot(kind='hist',color='maroon')\n",
    "plt.title('Histogram of vote_average',size=16, weight=500)\n",
    "plt.ylabel('Vote averages', color='blue', size=12);"
   ]
  },
  {
   "cell_type": "markdown",
   "metadata": {},
   "source": [
    "The vote average histogram is left skewed"
   ]
  },
  {
   "cell_type": "code",
   "execution_count": 317,
   "metadata": {},
   "outputs": [
    {
     "data": {
      "image/png": "[encoded data removed]",
      "text/plain": [
       "<Figure size 640x480 with 1 Axes>"
      ]
     },
     "metadata": {},
     "output_type": "display_data"
    }
   ],
   "source": [
    "# plotting the popularity histogram\n",
    "\n",
    "cleaned_df['popularity'].plot(kind='hist',color='maroon')\n",
    "plt.title('Histogram of Popularity',size=16, weight=500)\n",
    "plt.ylabel('Popularity', color='blue', size=12);"
   ]
  },
  {
   "cell_type": "markdown",
   "metadata": {},
   "source": [
    "### 1. How does the movie __runtime__ affect its revenue"
   ]
  },
  {
   "cell_type": "markdown",
   "metadata": {},
   "source": [
    "The dataset is to be explored to find out how the runtime of the movies relate to the revenue made"
   ]
  },
  {
   "cell_type": "code",
   "execution_count": 248,
   "metadata": {},
   "outputs": [
    {
     "data": {
      "text/plain": [
       "array([124, 120, 119, 136, 137, 156, 125, 141,  91,  94, 148, 108, 105,\n",
       "       167, 109, 115, 112, 130, 123, 114, 131, 128, 132, 103, 117,  93,\n",
       "       111, 147, 106, 122, 116,  97, 118, 121, 100, 133,  92,  96, 102,\n",
       "        88,  99,  89, 107,  95, 104, 101,  98, 113,  82,  87,  90, 134,\n",
       "        83,  78, 129, 169, 144, 145, 135, 139, 165, 142, 153, 127, 110,\n",
       "       164, 138,  84,  81,  79,  85,  86, 175,  80, 162, 158, 140, 161,\n",
       "       170, 150, 146,  77, 338, 189, 157, 159, 126, 188,  74, 178, 152,\n",
       "       183, 166,  75, 213, 160,  42, 155,  63, 154, 149,  62, 179,  72,\n",
       "        73, 191,  76, 171, 143, 172, 201, 214,  15, 194, 177, 180, 187,\n",
       "       151, 163,  66, 219, 193,  26, 192, 202, 195,  69, 200, 184, 216,\n",
       "       181,  71, 186, 168, 197, 248, 174, 199, 182], dtype=int64)"
      ]
     },
     "execution_count": 248,
     "metadata": {},
     "output_type": "execute_result"
    }
   ],
   "source": [
    "# explore runtime column to see the number of unique runtimes\n",
    "cleaned_df['runtime'].unique()"
   ]
  },
  {
   "cell_type": "markdown",
   "metadata": {},
   "source": [
    "The number of unique runtimes are quite much so, they are going to be grouped into four;\n",
    "\n",
    "    - High runtime\n",
    "    - Moderately High runtime\n",
    "    - Medium runtime\n",
    "    - Low runtime\n",
    "    "
   ]
  },
  {
   "cell_type": "code",
   "execution_count": 253,
   "metadata": {},
   "outputs": [
    {
     "data": {
      "text/plain": [
       "count    3855.000000\n",
       "mean      109.215824\n",
       "std        19.922166\n",
       "min        15.000000\n",
       "25%        95.000000\n",
       "50%       106.000000\n",
       "75%       119.000000\n",
       "max       338.000000\n",
       "Name: runtime, dtype: float64"
      ]
     },
     "execution_count": 253,
     "metadata": {},
     "output_type": "execute_result"
    }
   ],
   "source": [
    "# get the quantile values of the runtime column\n",
    "cleaned_df['runtime'].describe()\n"
   ]
  },
  {
   "cell_type": "code",
   "execution_count": 272,
   "metadata": {},
   "outputs": [],
   "source": [
    "# Grouping the runtime values into High, Moderately High, Medium and Low runtime_ratings\n",
    "\n",
    "# make a copy of the cleaned.df dataframe \n",
    "df = cleaned_df.copy()\n",
    "\n",
    "# cut the runtime column and group the values\n",
    "df['runtime_rating'] = pd.cut(x=df['runtime'], bins=[15,95,106,116,338], labels=['High', 'Moderately High', 'Medium', 'Low'])\n",
    "\n"
   ]
  },
  {
   "cell_type": "code",
   "execution_count": 271,
   "metadata": {},
   "outputs": [
    {
     "data": {
      "text/html": [
       "<div>\n",
       "<style scoped>\n",
       "    .dataframe tbody tr th:only-of-type {\n",
       "        vertical-align: middle;\n",
       "    }\n",
       "\n",
       "    .dataframe tbody tr th {\n",
       "        vertical-align: top;\n",
       "    }\n",
       "\n",
       "    .dataframe thead th {\n",
       "        text-align: right;\n",
       "    }\n",
       "</style>\n",
       "<table border=\"1\" class=\"dataframe\">\n",
       "  <thead>\n",
       "    <tr style=\"text-align: right;\">\n",
       "      <th></th>\n",
       "      <th>id</th>\n",
       "      <th>popularity</th>\n",
       "      <th>budget</th>\n",
       "      <th>revenue</th>\n",
       "      <th>runtime</th>\n",
       "      <th>vote_count</th>\n",
       "      <th>vote_average</th>\n",
       "      <th>release_year</th>\n",
       "      <th>budget_adj</th>\n",
       "      <th>revenue_adj</th>\n",
       "    </tr>\n",
       "    <tr>\n",
       "      <th>runtime_rating</th>\n",
       "      <th></th>\n",
       "      <th></th>\n",
       "      <th></th>\n",
       "      <th></th>\n",
       "      <th></th>\n",
       "      <th></th>\n",
       "      <th></th>\n",
       "      <th></th>\n",
       "      <th></th>\n",
       "      <th></th>\n",
       "    </tr>\n",
       "  </thead>\n",
       "  <tbody>\n",
       "    <tr>\n",
       "      <th>High</th>\n",
       "      <td>41407.067358</td>\n",
       "      <td>0.900586</td>\n",
       "      <td>2.681390e+07</td>\n",
       "      <td>7.725488e+07</td>\n",
       "      <td>89.131606</td>\n",
       "      <td>326.814508</td>\n",
       "      <td>5.851710</td>\n",
       "      <td>2001.687047</td>\n",
       "      <td>3.122135e+07</td>\n",
       "      <td>9.468192e+07</td>\n",
       "    </tr>\n",
       "    <tr>\n",
       "      <th>Moderately High</th>\n",
       "      <td>40753.499527</td>\n",
       "      <td>0.989718</td>\n",
       "      <td>3.158996e+07</td>\n",
       "      <td>7.740855e+07</td>\n",
       "      <td>100.833491</td>\n",
       "      <td>382.798486</td>\n",
       "      <td>6.003311</td>\n",
       "      <td>2002.362346</td>\n",
       "      <td>3.661674e+07</td>\n",
       "      <td>9.385062e+07</td>\n",
       "    </tr>\n",
       "    <tr>\n",
       "      <th>Medium</th>\n",
       "      <td>38455.555556</td>\n",
       "      <td>1.161189</td>\n",
       "      <td>3.558269e+07</td>\n",
       "      <td>9.555816e+07</td>\n",
       "      <td>111.241667</td>\n",
       "      <td>485.659722</td>\n",
       "      <td>6.215833</td>\n",
       "      <td>2001.394444</td>\n",
       "      <td>4.202057e+07</td>\n",
       "      <td>1.247812e+08</td>\n",
       "    </tr>\n",
       "    <tr>\n",
       "      <th>Low</th>\n",
       "      <td>38690.716727</td>\n",
       "      <td>1.655920</td>\n",
       "      <td>5.263266e+07</td>\n",
       "      <td>1.707298e+08</td>\n",
       "      <td>133.385791</td>\n",
       "      <td>867.139388</td>\n",
       "      <td>6.566996</td>\n",
       "      <td>1999.764388</td>\n",
       "      <td>6.424787e+07</td>\n",
       "      <td>2.228756e+08</td>\n",
       "    </tr>\n",
       "  </tbody>\n",
       "</table>\n",
       "</div>"
      ],
      "text/plain": [
       "                           id  popularity        budget       revenue  \\\n",
       "runtime_rating                                                          \n",
       "High             41407.067358    0.900586  2.681390e+07  7.725488e+07   \n",
       "Moderately High  40753.499527    0.989718  3.158996e+07  7.740855e+07   \n",
       "Medium           38455.555556    1.161189  3.558269e+07  9.555816e+07   \n",
       "Low              38690.716727    1.655920  5.263266e+07  1.707298e+08   \n",
       "\n",
       "                    runtime  vote_count  vote_average  release_year  \\\n",
       "runtime_rating                                                        \n",
       "High              89.131606  326.814508      5.851710   2001.687047   \n",
       "Moderately High  100.833491  382.798486      6.003311   2002.362346   \n",
       "Medium           111.241667  485.659722      6.215833   2001.394444   \n",
       "Low              133.385791  867.139388      6.566996   1999.764388   \n",
       "\n",
       "                   budget_adj   revenue_adj  \n",
       "runtime_rating                               \n",
       "High             3.122135e+07  9.468192e+07  \n",
       "Moderately High  3.661674e+07  9.385062e+07  \n",
       "Medium           4.202057e+07  1.247812e+08  \n",
       "Low              6.424787e+07  2.228756e+08  "
      ]
     },
     "execution_count": 271,
     "metadata": {},
     "output_type": "execute_result"
    }
   ],
   "source": [
    "# get the mean of the dataframe group by runtime_rating\n",
    "df.groupby('runtime_rating').mean()"
   ]
  },
  {
   "cell_type": "markdown",
   "metadata": {},
   "source": [
    "## Plotting a bar chart of Revenue against Runtime Rating"
   ]
  },
  {
   "cell_type": "code",
   "execution_count": 296,
   "metadata": {},
   "outputs": [
    {
     "data": {
      "image/png": "[encoded data removed]",
      "text/plain": [
       "<Figure size 640x480 with 1 Axes>"
      ]
     },
     "metadata": {},
     "output_type": "display_data"
    }
   ],
   "source": [
    "high = df[df['runtime_rating'] == 'High']['revenue_adj'].mean()\n",
    "moderately_high = df[df['runtime_rating'] == 'Moderately High']['revenue_adj'].mean()\n",
    "medium = df[df['runtime_rating'] == 'Medium']['revenue_adj'].mean()\n",
    "low = df[df['runtime_rating'] == 'Low']['revenue_adj'].mean()\n",
    "location = [1,2,3,4]\n",
    "runtime_ratings = [high, moderately_high, medium, low]\n",
    "Labels = ['High','Moderately High','Medium','Low']\n",
    "\n",
    "plt.bar(location,runtime_ratings,tick_label=Labels, color='blue')\n",
    "plt.title('Bar Chart of \\nRevenue Vs Runtime Rating', size=15, color='maroon', weight=600)\n",
    "plt.xlabel('Runtime rating', size=15, color='maroon')\n",
    "plt.ylabel('Revenue', size=15, color='maroon');"
   ]
  },
  {
   "cell_type": "markdown",
   "metadata": {},
   "source": [
    "__Bar chat of Revenue against Runtime Rating__. From the chart it can be seen that movies with Low runtime rating rakes in more revenue than others\n",
    "\n"
   ]
  },
  {
   "cell_type": "code",
   "execution_count": 302,
   "metadata": {},
   "outputs": [
    {
     "data": {
      "image/png": "[encoded data removed]",
      "text/plain": [
       "<Figure size 640x480 with 1 Axes>"
      ]
     },
     "metadata": {},
     "output_type": "display_data"
    }
   ],
   "source": [
    "## Plotting bar chart of __Vote Average__ against Runtime rating\n",
    "\n",
    "high = df[df['runtime_rating'] == 'High']['vote_average'].mean()\n",
    "moderately_high = df[df['runtime_rating'] == 'Moderately High']['vote_average'].mean()\n",
    "medium = df[df['runtime_rating'] == 'Medium']['vote_average'].mean()\n",
    "low = df[df['runtime_rating'] == 'Low']['vote_average'].mean()\n",
    "location = [1,2,3,4]\n",
    "runtime_ratings = [high, moderately_high, medium, low]\n",
    "Labels = ['High','Moderately High','Medium','Low']\n",
    "\n",
    "plt.bar(location,runtime_ratings,tick_label=Labels, color='maroon')\n",
    "plt.title('Bar Chart of \\nVote Average Vs Runtime Rating', size=15, color='blue', weight=600)\n",
    "plt.xlabel('Runtime Rating', size=15, color='blue')\n",
    "plt.ylabel('Vote Average', size=15, color='blue');"
   ]
  },
  {
   "cell_type": "markdown",
   "metadata": {},
   "source": [
    "> __Bar chat of Vote Average against Runtime Rating__ The chart shows the voting average for each of the __runtime ratings__. Even though each vote average id slightly greater than the previous, it can be seen from the bar chart that films with runtime between 15 to 95minutes gets between voting average"
   ]
  },
  {
   "cell_type": "markdown",
   "metadata": {},
   "source": [
    "## Plotting bar chart of runtime rating against popularity"
   ]
  },
  {
   "cell_type": "code",
   "execution_count": 309,
   "metadata": {},
   "outputs": [
    {
     "data": {
      "image/png": "[encoded data removed]",
      "text/plain": [
       "<Figure size 640x480 with 1 Axes>"
      ]
     },
     "metadata": {},
     "output_type": "display_data"
    }
   ],
   "source": [
    "high = df[df['runtime_rating'] == 'High']['popularity'].mean()\n",
    "moderately_high = df[df['runtime_rating'] == 'Moderately High']['popularity'].mean()\n",
    "medium = df[df['runtime_rating'] == 'Medium']['popularity'].mean()\n",
    "low = df[df['runtime_rating'] == 'Low']['popularity'].mean()\n",
    "location = [1,2,3,4]\n",
    "runtime_ratings = [high, moderately_high, medium, low]\n",
    "Labels = ['High','Moderately High','Medium','Low']\n",
    "\n",
    "plt.bar(location,runtime_ratings,tick_label=Labels, color='maroon')\n",
    "plt.title('Bar Chart of \\n Popularity Vs Runtime Rating', size=15, color='blue', weight=600)\n",
    "plt.xlabel('Runtime Rating', size=15, color='blue')\n",
    "plt.ylabel('Popularity', size=15, color='blue');"
   ]
  },
  {
   "cell_type": "markdown",
   "metadata": {},
   "source": [
    "> __Bar chat of Popularity against Runtime Rating__ The chart depicts the popularity level of each Runtime Rating. From the chart, movies with Lower runtime rating (between 15 to 95minutes) are more popular than movies with higher runtime ratings"
   ]
  },
  {
   "cell_type": "code",
   "execution_count": null,
   "metadata": {},
   "outputs": [],
   "source": []
  },
  {
   "cell_type": "markdown",
   "metadata": {},
   "source": [
    "- From operation carried out on the dataset and the bar chart of __runtime rating__ against __revenue__ it can be seen that movies with Low\n",
    "__runtime_rating__ raked in more revenue\n",
    "- Also it can be seen that even though the vote is spread almost equally across all runtime ratings movies with Low runtime ratings are still the most popular amongst audiences as seen in the respective bar charts of runtime rating against __popularity__ and __vote_average__ bar charts "
   ]
  },
  {
   "cell_type": "markdown",
   "metadata": {},
   "source": [
    "# Conclusion:\n",
    "\n",
    "From the operations carried out on the dataset above it can be concluded that optimize revenue and boost the change of producting a movie that is very popular amongst movie goers, production companies should work on movies with low runtime.\n"
   ]
  },
  {
   "cell_type": "markdown",
   "metadata": {},
   "source": [
    "# Limitations"
   ]
  },
  {
   "cell_type": "markdown",
   "metadata": {},
   "source": [
    "The original dataset contained over 10,000 records however after wrangling and clean up there are only 3855 records left with which the analysis where carried out. This means that over 60% of the records in the dataset where trimmed out after clean up.\n",
    "\n",
    "I strongly believe that it is possible that the analysis could have yielded a different set of results if the removed records where part of the analysis"
   ]
  },
  {
   "cell_type": "code",
   "execution_count": null,
   "metadata": {},
   "outputs": [],
   "source": []
  },
  {
   "cell_type": "code",
   "execution_count": null,
   "metadata": {},
   "outputs": [],
   "source": []
  }
 ],
 "metadata": {
  "kernelspec": {
   "display_name": "Python 3 (ipykernel)",
   "language": "python",
   "name": "python3"
  },
  "language_info": {
   "codemirror_mode": {
    "name": "ipython",
    "version": 3
   },
   "file_extension": ".py",
   "mimetype": "text/x-python",
   "name": "python",
   "nbconvert_exporter": "python",
   "pygments_lexer": "ipython3",
   "version": "3.9.13"
  }
 },
 "nbformat": 4,
 "nbformat_minor": 2
}
